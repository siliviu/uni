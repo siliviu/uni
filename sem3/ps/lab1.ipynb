{
 "cells": [
  {
   "cell_type": "code",
   "execution_count": 105,
   "metadata": {},
   "outputs": [
    {
     "name": "stdout",
     "output_type": "stream",
     "text": [
      "('w', 'o', 'r', 'd')\n",
      "('w', 'o', 'd', 'r')\n",
      "('w', 'r', 'o', 'd')\n",
      "('w', 'r', 'd', 'o')\n",
      "('w', 'd', 'o', 'r')\n",
      "('w', 'd', 'r', 'o')\n",
      "('o', 'w', 'r', 'd')\n",
      "('o', 'w', 'd', 'r')\n",
      "('o', 'r', 'w', 'd')\n",
      "('o', 'r', 'd', 'w')\n",
      "('o', 'd', 'w', 'r')\n",
      "('o', 'd', 'r', 'w')\n",
      "('r', 'w', 'o', 'd')\n",
      "('r', 'w', 'd', 'o')\n",
      "('r', 'o', 'w', 'd')\n",
      "('r', 'o', 'd', 'w')\n",
      "('r', 'd', 'w', 'o')\n",
      "('r', 'd', 'o', 'w')\n",
      "('d', 'w', 'o', 'r')\n",
      "('d', 'w', 'r', 'o')\n",
      "('d', 'o', 'w', 'r')\n",
      "('d', 'o', 'r', 'w')\n",
      "('d', 'r', 'w', 'o')\n",
      "('d', 'r', 'o', 'w')\n"
     ]
    }
   ],
   "source": [
    "from math import factorial\n",
    "from itertools import permutations, combinations\n",
    "import random\n",
    "\n",
    "a = \"word\"\n",
    "\n",
    "perms = list(permutations(a))\n",
    "\n",
    "for x in perms:\n",
    "    print(x)"
   ]
  },
  {
   "cell_type": "code",
   "execution_count": 99,
   "metadata": {},
   "outputs": [
    {
     "name": "stdout",
     "output_type": "stream",
     "text": [
      "24 permutations\n"
     ]
    }
   ],
   "source": [
    "# print(len(perms), \"permutations\")\n",
    "print(factorial(len(a)), \"permutations\")"
   ]
  },
  {
   "cell_type": "code",
   "execution_count": 127,
   "metadata": {},
   "outputs": [
    {
     "name": "stdout",
     "output_type": "stream",
     "text": [
      "['r', 'w', 'd', 'o']\n"
     ]
    }
   ],
   "source": [
    "print(random.sample(a,4))"
   ]
  },
  {
   "cell_type": "code",
   "execution_count": 169,
   "metadata": {},
   "outputs": [
    {
     "name": "stdout",
     "output_type": "stream",
     "text": [
      "[('w', 'o'), ('w', 'r'), ('w', 'd'), ('o', 'w'), ('o', 'r'), ('o', 'd'), ('r', 'w'), ('r', 'o'), ('r', 'd'), ('d', 'w'), ('d', 'o'), ('d', 'r')]\n",
      "12\n",
      "['w', 'd']\n"
     ]
    }
   ],
   "source": [
    "def arrangements(l, nr, *,number=False,show_random=False):\n",
    "    if number:\n",
    "        return factorial(len(l))//factorial(len(l)-nr)\n",
    "    if show_random:\n",
    "        return random.sample(l,nr)\n",
    "    return list(permutations(l, nr))\n",
    "\n",
    "print(arrangements('word', 2))\n",
    "print(arrangements('word',2,number=True))\n",
    "print(arrangements('word',2,show_random=True))"
   ]
  },
  {
   "cell_type": "code",
   "execution_count": 168,
   "metadata": {},
   "outputs": [
    {
     "name": "stdout",
     "output_type": "stream",
     "text": [
      "[('w', 'o'), ('w', 'r'), ('w', 'd'), ('o', 'r'), ('o', 'd'), ('r', 'd')]\n",
      "6\n",
      "['r', 'd']\n"
     ]
    }
   ],
   "source": [
    "def comb(l, nr, *,number=False, show_random=False):\n",
    "    if number:\n",
    "        return factorial(len(l))//(factorial(len(l)-nr)*factorial(nr))\n",
    "    if show_random:\n",
    "        pos = range(len(l))\n",
    "        random_pos = sorted(random.sample(pos, nr))\n",
    "        return [l[i] for i in random_pos]\n",
    "    return list(combinations(l, nr))\n",
    "\n",
    "print(comb('word', 2))\n",
    "print(comb('word',2,number=True))\n",
    "print(comb('word',2,show_random=True))"
   ]
  },
  {
   "cell_type": "code",
   "execution_count": 213,
   "metadata": {},
   "outputs": [
    {
     "name": "stdout",
     "output_type": "stream",
     "text": [
      "[[1, 1, 1, 7], [1, 1, 2, 6], [1, 1, 3, 5], [1, 1, 4, 4], [1, 1, 5, 3], [1, 1, 6, 2], [1, 1, 7, 1], [1, 2, 1, 6], [1, 2, 2, 5], [1, 2, 3, 4], [1, 2, 4, 3], [1, 2, 5, 2], [1, 2, 6, 1], [1, 3, 1, 5], [1, 3, 2, 4], [1, 3, 3, 3], [1, 3, 4, 2], [1, 3, 5, 1], [1, 4, 1, 4], [1, 4, 2, 3], [1, 4, 3, 2], [1, 4, 4, 1], [1, 5, 1, 3], [1, 5, 2, 2], [1, 5, 3, 1], [1, 6, 1, 2], [1, 6, 2, 1], [1, 7, 1, 1], [2, 1, 1, 6], [2, 1, 2, 5], [2, 1, 3, 4], [2, 1, 4, 3], [2, 1, 5, 2], [2, 1, 6, 1], [2, 2, 1, 5], [2, 2, 2, 4], [2, 2, 3, 3], [2, 2, 4, 2], [2, 2, 5, 1], [2, 3, 1, 4], [2, 3, 2, 3], [2, 3, 3, 2], [2, 3, 4, 1], [2, 4, 1, 3], [2, 4, 2, 2], [2, 4, 3, 1], [2, 5, 1, 2], [2, 5, 2, 1], [2, 6, 1, 1], [3, 1, 1, 5], [3, 1, 2, 4], [3, 1, 3, 3], [3, 1, 4, 2], [3, 1, 5, 1], [3, 2, 1, 4], [3, 2, 2, 3], [3, 2, 3, 2], [3, 2, 4, 1], [3, 3, 1, 3], [3, 3, 2, 2], [3, 3, 3, 1], [3, 4, 1, 2], [3, 4, 2, 1], [3, 5, 1, 1], [4, 1, 1, 4], [4, 1, 2, 3], [4, 1, 3, 2], [4, 1, 4, 1], [4, 2, 1, 3], [4, 2, 2, 2], [4, 2, 3, 1], [4, 3, 1, 2], [4, 3, 2, 1], [4, 4, 1, 1], [5, 1, 1, 3], [5, 1, 2, 2], [5, 1, 3, 1], [5, 2, 1, 2], [5, 2, 2, 1], [5, 3, 1, 1], [6, 1, 1, 2], [6, 1, 2, 1], [6, 2, 1, 1], [7, 1, 1, 1]]\n"
     ]
    }
   ],
   "source": [
    "def starsandbars(n, k):\n",
    "    a = list(combinations(range(1, n),k-1))\n",
    "    ans = []\n",
    "    for x in a:\n",
    "        cur = [x[0]]\n",
    "        for y in range(1,k-1):\n",
    "            cur.append(x[y]-x[y-1])\n",
    "        cur.append(n-x[-1])\n",
    "        ans.append(cur)\n",
    "    return ans\n",
    "\n",
    "print(starsandbars(10,4))"
   ]
  }
 ],
 "metadata": {
  "kernelspec": {
   "display_name": "Python 3",
   "language": "python",
   "name": "python3"
  },
  "language_info": {
   "codemirror_mode": {
    "name": "ipython",
    "version": 3
   },
   "file_extension": ".py",
   "mimetype": "text/x-python",
   "name": "python",
   "nbconvert_exporter": "python",
   "pygments_lexer": "ipython3",
   "version": "3.10.11"
  }
 },
 "nbformat": 4,
 "nbformat_minor": 2
}
