{
 "cells": [
  {
   "cell_type": "code",
   "execution_count": 121,
   "metadata": {},
   "outputs": [
    {
     "name": "stdout",
     "output_type": "stream",
     "text": [
      "[(3, 3, 3), (3, 3, 4), (3, 3, 5), (3, 3, 6), (3, 3, 7), (3, 3, 8), (3, 3, 9), (3, 3, 10), (3, 3, 11), (3, 4, 3), (3, 4, 4), (3, 4, 5), (3, 4, 6), (3, 4, 7), (3, 4, 8), (3, 4, 9), (3, 4, 10), (3, 4, 11), (3, 5, 3), (3, 5, 4), (3, 5, 5), (3, 5, 6), (3, 5, 7), (3, 5, 8), (3, 5, 9), (3, 5, 10), (3, 5, 11), (3, 6, 3), (3, 6, 4), (3, 6, 5), (3, 6, 6), (3, 6, 7), (3, 6, 8), (3, 6, 9), (3, 6, 10), (3, 6, 11), (3, 7, 3), (3, 7, 4), (3, 7, 5), (3, 7, 6), (3, 7, 7), (3, 7, 8), (3, 7, 9), (3, 7, 10), (3, 7, 11), (3, 8, 3), (3, 8, 4), (3, 8, 5), (3, 8, 6), (3, 8, 7), (3, 8, 8), (3, 8, 9), (3, 8, 10), (3, 8, 11), (3, 9, 3), (3, 9, 4), (3, 9, 5), (3, 9, 6), (3, 9, 7), (3, 9, 8), (3, 9, 9), (3, 9, 10), (3, 9, 11), (3, 10, 3), (3, 10, 4), (3, 10, 5), (3, 10, 6), (3, 10, 7), (3, 10, 8), (3, 10, 9), (3, 10, 10), (3, 10, 11), (3, 11, 3), (3, 11, 4), (3, 11, 5), (3, 11, 6), (3, 11, 7), (3, 11, 8), (3, 11, 9), (3, 11, 10), (3, 11, 11), (4, 3, 3), (4, 3, 4), (4, 3, 5), (4, 3, 6), (4, 3, 7), (4, 3, 8), (4, 3, 9), (4, 3, 10), (4, 3, 11), (4, 4, 3), (4, 4, 4), (4, 4, 5), (4, 4, 6), (4, 4, 7), (4, 4, 8), (4, 4, 9), (4, 4, 10), (4, 4, 11), (4, 5, 3), (4, 5, 4), (4, 5, 5), (4, 5, 6), (4, 5, 7), (4, 5, 8), (4, 5, 9), (4, 5, 10), (4, 5, 11), (4, 6, 3), (4, 6, 4), (4, 6, 5), (4, 6, 6), (4, 6, 7), (4, 6, 8), (4, 6, 9), (4, 6, 10), (4, 6, 11), (4, 7, 3), (4, 7, 4), (4, 7, 5), (4, 7, 6), (4, 7, 7), (4, 7, 8), (4, 7, 9), (4, 7, 10), (4, 7, 11), (4, 8, 3), (4, 8, 4), (4, 8, 5), (4, 8, 6), (4, 8, 7), (4, 8, 8), (4, 8, 9), (4, 8, 10), (4, 8, 11), (4, 9, 3), (4, 9, 4), (4, 9, 5), (4, 9, 6), (4, 9, 7), (4, 9, 8), (4, 9, 9), (4, 9, 10), (4, 9, 11), (4, 10, 3), (4, 10, 4), (4, 10, 5), (4, 10, 6), (4, 10, 7), (4, 10, 8), (4, 10, 9), (4, 10, 10), (4, 10, 11), (4, 11, 3), (4, 11, 4), (4, 11, 5), (4, 11, 6), (4, 11, 7), (4, 11, 8), (4, 11, 9), (4, 11, 10), (4, 11, 11), (5, 3, 3), (5, 3, 4), (5, 3, 5), (5, 3, 6), (5, 3, 7), (5, 3, 8), (5, 3, 9), (5, 3, 10), (5, 3, 11), (5, 4, 3), (5, 4, 4), (5, 4, 5), (5, 4, 6), (5, 4, 7), (5, 4, 8), (5, 4, 9), (5, 4, 10), (5, 4, 11), (5, 5, 3), (5, 5, 4), (5, 5, 5), (5, 5, 6), (5, 5, 7), (5, 5, 8), (5, 5, 9), (5, 5, 10), (5, 5, 11), (5, 6, 3), (5, 6, 4), (5, 6, 5), (5, 6, 6), (5, 6, 7), (5, 6, 8), (5, 6, 9), (5, 6, 10), (5, 6, 11), (5, 7, 3), (5, 7, 4), (5, 7, 5), (5, 7, 6), (5, 7, 7), (5, 7, 8), (5, 7, 9), (5, 7, 10), (5, 7, 11), (5, 8, 3), (5, 8, 4), (5, 8, 5), (5, 8, 6), (5, 8, 7), (5, 8, 8), (5, 8, 9), (5, 8, 10), (5, 8, 11), (5, 9, 3), (5, 9, 4), (5, 9, 5), (5, 9, 6), (5, 9, 7), (5, 9, 8), (5, 9, 9), (5, 9, 10), (5, 9, 11), (5, 10, 3), (5, 10, 4), (5, 10, 5), (5, 10, 6), (5, 10, 7), (5, 10, 8), (5, 10, 9), (5, 10, 10), (5, 10, 11), (5, 11, 3), (5, 11, 4), (5, 11, 5), (5, 11, 6), (5, 11, 7), (5, 11, 8), (5, 11, 9), (5, 11, 10), (5, 11, 11), (6, 3, 3), (6, 3, 4), (6, 3, 5), (6, 3, 6), (6, 3, 7), (6, 3, 8), (6, 3, 9), (6, 3, 10), (6, 3, 11), (6, 4, 3), (6, 4, 4), (6, 4, 5), (6, 4, 6), (6, 4, 7), (6, 4, 8), (6, 4, 9), (6, 4, 10), (6, 4, 11), (6, 5, 3), (6, 5, 4), (6, 5, 5), (6, 5, 6), (6, 5, 7), (6, 5, 8), (6, 5, 9), (6, 5, 10), (6, 5, 11), (6, 6, 3), (6, 6, 4), (6, 6, 5), (6, 6, 6), (6, 6, 7), (6, 6, 8), (6, 6, 9), (6, 6, 10), (6, 6, 11), (6, 7, 3), (6, 7, 4), (6, 7, 5), (6, 7, 6), (6, 7, 7), (6, 7, 8), (6, 7, 9), (6, 7, 10), (6, 7, 11), (6, 8, 3), (6, 8, 4), (6, 8, 5), (6, 8, 6), (6, 8, 7), (6, 8, 8), (6, 8, 9), (6, 8, 10), (6, 8, 11), (6, 9, 3), (6, 9, 4), (6, 9, 5), (6, 9, 6), (6, 9, 7), (6, 9, 8), (6, 9, 9), (6, 9, 10), (6, 9, 11), (6, 10, 3), (6, 10, 4), (6, 10, 5), (6, 10, 6), (6, 10, 7), (6, 10, 8), (6, 10, 9), (6, 10, 10), (6, 10, 11), (6, 11, 3), (6, 11, 4), (6, 11, 5), (6, 11, 6), (6, 11, 7), (6, 11, 8), (6, 11, 9), (6, 11, 10), (6, 11, 11), (7, 3, 3), (7, 3, 4), (7, 3, 5), (7, 3, 6), (7, 3, 7), (7, 3, 8), (7, 3, 9), (7, 3, 10), (7, 3, 11), (7, 4, 3), (7, 4, 4), (7, 4, 5), (7, 4, 6), (7, 4, 7), (7, 4, 8), (7, 4, 9), (7, 4, 10), (7, 4, 11), (7, 5, 3), (7, 5, 4), (7, 5, 5), (7, 5, 6), (7, 5, 7), (7, 5, 8), (7, 5, 9), (7, 5, 10), (7, 5, 11), (7, 6, 3), (7, 6, 4), (7, 6, 5), (7, 6, 6), (7, 6, 7), (7, 6, 8), (7, 6, 9), (7, 6, 10), (7, 6, 11), (7, 7, 3), (7, 7, 4), (7, 7, 5), (7, 7, 6), (7, 7, 7), (7, 7, 8), (7, 7, 9), (7, 7, 10), (7, 7, 11), (7, 8, 3), (7, 8, 4), (7, 8, 5), (7, 8, 6), (7, 8, 7), (7, 8, 8), (7, 8, 9), (7, 8, 10), (7, 8, 11), (7, 9, 3), (7, 9, 4), (7, 9, 5), (7, 9, 6), (7, 9, 7), (7, 9, 8), (7, 9, 9), (7, 9, 10), (7, 9, 11), (7, 10, 3), (7, 10, 4), (7, 10, 5), (7, 10, 6), (7, 10, 7), (7, 10, 8), (7, 10, 9), (7, 10, 10), (7, 10, 11), (7, 11, 3), (7, 11, 4), (7, 11, 5), (7, 11, 6), (7, 11, 7), (7, 11, 8), (7, 11, 9), (7, 11, 10), (7, 11, 11), (8, 3, 3), (8, 3, 4), (8, 3, 5), (8, 3, 6), (8, 3, 7), (8, 3, 8), (8, 3, 9), (8, 3, 10), (8, 3, 11), (8, 4, 3), (8, 4, 4), (8, 4, 5), (8, 4, 6), (8, 4, 7), (8, 4, 8), (8, 4, 9), (8, 4, 10), (8, 4, 11), (8, 5, 3), (8, 5, 4), (8, 5, 5), (8, 5, 6), (8, 5, 7), (8, 5, 8), (8, 5, 9), (8, 5, 10), (8, 5, 11), (8, 6, 3), (8, 6, 4), (8, 6, 5), (8, 6, 6), (8, 6, 7), (8, 6, 8), (8, 6, 9), (8, 6, 10), (8, 6, 11), (8, 7, 3), (8, 7, 4), (8, 7, 5), (8, 7, 6), (8, 7, 7), (8, 7, 8), (8, 7, 9), (8, 7, 10), (8, 7, 11), (8, 8, 3), (8, 8, 4), (8, 8, 5), (8, 8, 6), (8, 8, 7), (8, 8, 8), (8, 8, 9), (8, 8, 10), (8, 8, 11), (8, 9, 3), (8, 9, 4), (8, 9, 5), (8, 9, 6), (8, 9, 7), (8, 9, 8), (8, 9, 9), (8, 9, 10), (8, 9, 11), (8, 10, 3), (8, 10, 4), (8, 10, 5), (8, 10, 6), (8, 10, 7), (8, 10, 8), (8, 10, 9), (8, 10, 10), (8, 10, 11), (8, 11, 3), (8, 11, 4), (8, 11, 5), (8, 11, 6), (8, 11, 7), (8, 11, 8), (8, 11, 9), (8, 11, 10), (8, 11, 11), (9, 3, 3), (9, 3, 4), (9, 3, 5), (9, 3, 6), (9, 3, 7), (9, 3, 8), (9, 3, 9), (9, 3, 10), (9, 3, 11), (9, 4, 3), (9, 4, 4), (9, 4, 5), (9, 4, 6), (9, 4, 7), (9, 4, 8), (9, 4, 9), (9, 4, 10), (9, 4, 11), (9, 5, 3), (9, 5, 4), (9, 5, 5), (9, 5, 6), (9, 5, 7), (9, 5, 8), (9, 5, 9), (9, 5, 10), (9, 5, 11), (9, 6, 3), (9, 6, 4), (9, 6, 5), (9, 6, 6), (9, 6, 7), (9, 6, 8), (9, 6, 9), (9, 6, 10), (9, 6, 11), (9, 7, 3), (9, 7, 4), (9, 7, 5), (9, 7, 6), (9, 7, 7), (9, 7, 8), (9, 7, 9), (9, 7, 10), (9, 7, 11), (9, 8, 3), (9, 8, 4), (9, 8, 5), (9, 8, 6), (9, 8, 7), (9, 8, 8), (9, 8, 9), (9, 8, 10), (9, 8, 11), (9, 9, 3), (9, 9, 4), (9, 9, 5), (9, 9, 6), (9, 9, 7), (9, 9, 8), (9, 9, 9), (9, 9, 10), (9, 9, 11), (9, 10, 3), (9, 10, 4), (9, 10, 5), (9, 10, 6), (9, 10, 7), (9, 10, 8), (9, 10, 9), (9, 10, 10), (9, 10, 11), (9, 11, 3), (9, 11, 4), (9, 11, 5), (9, 11, 6), (9, 11, 7), (9, 11, 8), (9, 11, 9), (9, 11, 10), (9, 11, 11), (10, 3, 3), (10, 3, 4), (10, 3, 5), (10, 3, 6), (10, 3, 7), (10, 3, 8), (10, 3, 9), (10, 3, 10), (10, 3, 11), (10, 4, 3), (10, 4, 4), (10, 4, 5), (10, 4, 6), (10, 4, 7), (10, 4, 8), (10, 4, 9), (10, 4, 10), (10, 4, 11), (10, 5, 3), (10, 5, 4), (10, 5, 5), (10, 5, 6), (10, 5, 7), (10, 5, 8), (10, 5, 9), (10, 5, 10), (10, 5, 11), (10, 6, 3), (10, 6, 4), (10, 6, 5), (10, 6, 6), (10, 6, 7), (10, 6, 8), (10, 6, 9), (10, 6, 10), (10, 6, 11), (10, 7, 3), (10, 7, 4), (10, 7, 5), (10, 7, 6), (10, 7, 7), (10, 7, 8), (10, 7, 9), (10, 7, 10), (10, 7, 11), (10, 8, 3), (10, 8, 4), (10, 8, 5), (10, 8, 6), (10, 8, 7), (10, 8, 8), (10, 8, 9), (10, 8, 10), (10, 8, 11), (10, 9, 3), (10, 9, 4), (10, 9, 5), (10, 9, 6), (10, 9, 7), (10, 9, 8), (10, 9, 9), (10, 9, 10), (10, 9, 11), (10, 10, 3), (10, 10, 4), (10, 10, 5), (10, 10, 6), (10, 10, 7), (10, 10, 8), (10, 10, 9), (10, 10, 10), (10, 10, 11), (10, 11, 3), (10, 11, 4), (10, 11, 5), (10, 11, 6), (10, 11, 7), (10, 11, 8), (10, 11, 9), (10, 11, 10), (10, 11, 11), (11, 3, 3), (11, 3, 4), (11, 3, 5), (11, 3, 6), (11, 3, 7), (11, 3, 8), (11, 3, 9), (11, 3, 10), (11, 3, 11), (11, 4, 3), (11, 4, 4), (11, 4, 5), (11, 4, 6), (11, 4, 7), (11, 4, 8), (11, 4, 9), (11, 4, 10), (11, 4, 11), (11, 5, 3), (11, 5, 4), (11, 5, 5), (11, 5, 6), (11, 5, 7), (11, 5, 8), (11, 5, 9), (11, 5, 10), (11, 5, 11), (11, 6, 3), (11, 6, 4), (11, 6, 5), (11, 6, 6), (11, 6, 7), (11, 6, 8), (11, 6, 9), (11, 6, 10), (11, 6, 11), (11, 7, 3), (11, 7, 4), (11, 7, 5), (11, 7, 6), (11, 7, 7), (11, 7, 8), (11, 7, 9), (11, 7, 10), (11, 7, 11), (11, 8, 3), (11, 8, 4), (11, 8, 5), (11, 8, 6), (11, 8, 7), (11, 8, 8), (11, 8, 9), (11, 8, 10), (11, 8, 11), (11, 9, 3), (11, 9, 4), (11, 9, 5), (11, 9, 6), (11, 9, 7), (11, 9, 8), (11, 9, 9), (11, 9, 10), (11, 9, 11), (11, 10, 3), (11, 10, 4), (11, 10, 5), (11, 10, 6), (11, 10, 7), (11, 10, 8), (11, 10, 9), (11, 10, 10), (11, 10, 11), (11, 11, 3), (11, 11, 4), (11, 11, 5), (11, 11, 6), (11, 11, 7), (11, 11, 8), (11, 11, 9), (11, 11, 10), (11, 11, 11)]\n"
     ]
    },
    {
     "data": {
      "image/png": "[encoded data removed]",
      "text/plain": [
       "<Figure size 640x480 with 1 Axes>"
      ]
     },
     "metadata": {},
     "output_type": "display_data"
    },
    {
     "name": "stdout",
     "output_type": "stream",
     "text": [
      "0.411522633744856\n",
      "0.41152263374485604\n"
     ]
    }
   ],
   "source": [
    "from scipy.stats import binom, hypergeom,geom\n",
    "from math import comb, factorial\n",
    "from matplotlib.pyplot import bar, hist, grid, show, legend, xticks\n",
    "from numpy import mean, std, multiply\n",
    "from random import choices, sample, randint\n",
    "\n",
    "L=3\n",
    "R=11\n",
    "\n",
    "r = []\n",
    "\n",
    "for i in range(L,R+1):\n",
    "    for j in range(L, R+1):\n",
    "        for k in range(L, R+1):\n",
    "            r.append((i,j,k))\n",
    "\n",
    "print(r)\n",
    "\n",
    "data = [int(sum([x%2 == 1 for x in y])==2) for y in r]\n",
    "#print(data)\n",
    "\n",
    "hist(data,bins=2,range=(0,2),rwidth=0.9,density=True)\n",
    "show()\n",
    "print(mean(data))\n",
    "print(3*5/9*5/9*4/9)\n"
   ]
  },
  {
   "cell_type": "code",
   "execution_count": 122,
   "metadata": {},
   "outputs": [
    {
     "name": "stdout",
     "output_type": "stream",
     "text": [
      "0.7349\n",
      "0.10094\n",
      "0.029432575860661316\n",
      "0.029850746268656716\n"
     ]
    }
   ],
   "source": [
    "U=['R']*7+['A']*5+['V']*3\n",
    "IT = 100000\n",
    "\n",
    "r = []\n",
    "a=0\n",
    "b=0\n",
    "ab=0\n",
    "\n",
    "for _ in range(IT):\n",
    "    cur = sample(U,3)\n",
    "    r.append(cur)\n",
    "    if 'A' in cur:\n",
    "        a+=1\n",
    "        if len(set(cur))==1:\n",
    "            ab+=1\n",
    "    if len(set(cur))==1:\n",
    "        b+=1\n",
    "\n",
    "# print(r)\n",
    "print(mean([('A' in x) for x in r]))\n",
    "print(mean([len(set(x))==1 for x in r]))\n",
    "print(mean([x==['A']*3 for x in r])/mean([('A' in x) for x in r]))\n",
    "\n",
    "print(comb(5,3)/(comb(15,3)-comb(10,3)))"
   ]
  },
  {
   "cell_type": "code",
   "execution_count": 123,
   "metadata": {},
   "outputs": [
    {
     "name": "stdout",
     "output_type": "stream",
     "text": [
      "0.598443\n",
      "0.144525\n",
      "0.5981224279835391\n",
      "0.1444936614921153\n"
     ]
    }
   ],
   "source": [
    "\n",
    "IT = 1000000\n",
    "r=[]\n",
    "for _ in range(IT):\n",
    "    a=-1\n",
    "    b=0\n",
    "    cur = -1\n",
    "    while a!=b:\n",
    "        cur+=1\n",
    "        a=randint(1,6)\n",
    "        b=randint(1,6)\n",
    "    r.append(cur)\n",
    "print(mean([x<5 for x in r]))\n",
    "print(mean([x>=7 and x <= 10 for x in r]))  \n",
    "p=6/36\n",
    "print(geom.cdf(5,p))\n",
    "print(geom.cdf(11,p)-geom.cdf(7,p))  "
   ]
  }
 ],
 "metadata": {
  "kernelspec": {
   "display_name": "Python 3",
   "language": "python",
   "name": "python3"
  },
  "language_info": {
   "codemirror_mode": {
    "name": "ipython",
    "version": 3
   },
   "file_extension": ".py",
   "mimetype": "text/x-python",
   "name": "python",
   "nbconvert_exporter": "python",
   "pygments_lexer": "ipython3",
   "version": "3.10.11"
  }
 },
 "nbformat": 4,
 "nbformat_minor": 2
}
