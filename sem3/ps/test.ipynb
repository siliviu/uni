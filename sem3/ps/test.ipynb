{
 "cells": [
  {
   "cell_type": "code",
   "execution_count": 1,
   "metadata": {},
   "outputs": [
    {
     "name": "stdout",
     "output_type": "stream",
     "text": [
      "43740 vs 43740\n",
      "344817 vs 344817\n",
      "11664 vs 11664\n",
      "10935 vs 10935\n"
     ]
    }
   ],
   "source": [
    "C = [0,1,2,3,4,5,'x','y','z']\n",
    "\n",
    "sol = []\n",
    "cursol = []\n",
    "def back(curpos, cond):\n",
    "    if curpos == 6:\n",
    "        if cond(cursol):\n",
    "            # print(cursol)\n",
    "            sol.append(cursol)\n",
    "        return\n",
    "    for x in C:\n",
    "        cursol.append(x)\n",
    "        back(curpos+1,cond)\n",
    "        cursol.pop()\n",
    "\n",
    "# back(0,lambda x:True) \n",
    "# print(len(sol), 'vs',9**6)\n",
    "# sol.clear()\n",
    "\n",
    "back(0,lambda x:sum([y in [1,3,5] for y in x])==4)\n",
    "print(len(sol), 'vs',15*3**4*6**2)\n",
    "sol.clear()\n",
    "\n",
    "back(0,lambda x:sum([y in [0,1,2,3,4,5] for y in x])<=4)\n",
    "print(len(sol), 'vs',9**6-6*3*6**5-6**6)\n",
    "sol.clear()\n",
    "\n",
    "\n",
    "back(0,lambda x: sum([(x[i] in ['x','y','z'])^(x[i-1] in ['x','y','z']) for i in range(1,len(x))]) == 5)\n",
    "print(len(sol), 'vs',2*6**3*3**3)\n",
    "sol.clear()\n",
    "\n",
    "\n",
    "back(0,lambda x:sum([y in [1,3,5] for y in x])==4 and sum([y in ['x','y','z'] for y in x])==0)\n",
    "print(len(sol), 'vs',15*3**4*6**2//4)\n",
    "sol.clear()\n"
   ]
  }
 ],
 "metadata": {
  "kernelspec": {
   "display_name": "Python 3",
   "language": "python",
   "name": "python3"
  },
  "language_info": {
   "codemirror_mode": {
    "name": "ipython",
    "version": 3
   },
   "file_extension": ".py",
   "mimetype": "text/x-python",
   "name": "python",
   "nbconvert_exporter": "python",
   "pygments_lexer": "ipython3",
   "version": "3.10.11"
  }
 },
 "nbformat": 4,
 "nbformat_minor": 2
}
