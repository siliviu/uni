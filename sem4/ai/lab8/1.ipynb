{
 "cells": [
  {
   "cell_type": "code",
   "execution_count": 2,
   "metadata": {},
   "outputs": [],
   "source": [
    "from random import choice\n",
    "\n",
    "class MarkovTextGenerator:\n",
    "    def __init__(self, text, size=1):\n",
    "        self.text=text.split()\n",
    "        self.model={}\n",
    "        self.size=size\n",
    "        self.build()\n",
    "    def build(self):\n",
    "        for i in range(self.size, len(self.text)):\n",
    "            cur = self.text[i]\n",
    "            prev = ' '.join(self.text[i-self.size:i])\n",
    "            if prev in self.model:\n",
    "                self.model[prev].append(cur)\n",
    "            else:\n",
    "                self.model[prev]=[cur]\n",
    "        self.starters=[s.split(' ') for s in self.model.keys() if s[0].isupper() and s[-1]!='.']\n",
    "    def generate(self):\n",
    "        sol = choice(self.starters)\n",
    "        i = self.size\n",
    "        while i < 5 or sol[-1][-1]!='.':\n",
    "            prev = ' '.join(sol[i-self.size:i])\n",
    "            if prev not in self.model:\n",
    "                sol.append(choice(self.starters))\n",
    "            else:\n",
    "                sol.append(choice(self.model[prev]))\n",
    "            i+=1\n",
    "        return ' '.join(sol)"
   ]
  },
  {
   "cell_type": "code",
   "execution_count": 5,
   "metadata": {},
   "outputs": [
    {
     "name": "stdout",
     "output_type": "stream",
     "text": [
      "Cum e si lacat la tocmeala iar baba se face omul cade ii ajunge mai pe sine nu il vede pe gard.\n",
      "Cui ii dai pe datorie nu iti fierbe oala.\n",
      "Are un car cu boi si o suta de nevoi.\n"
     ]
    }
   ],
   "source": [
    "with open('data/proverbe.txt','r', encoding='utf-8') as f:\n",
    "    text=f.read()\n",
    "m = MarkovTextGenerator(text, 1)\n",
    "print(m.generate())\n",
    "\n",
    "m = MarkovTextGenerator(text, 2)\n",
    "print(m.generate())\n",
    "\n",
    "m = MarkovTextGenerator(text, 3)\n",
    "print(m.generate())"
   ]
  }
 ],
 "metadata": {
  "kernelspec": {
   "display_name": "Python 3",
   "language": "python",
   "name": "python3"
  },
  "language_info": {
   "codemirror_mode": {
    "name": "ipython",
    "version": 3
   },
   "file_extension": ".py",
   "mimetype": "text/x-python",
   "name": "python",
   "nbconvert_exporter": "python",
   "pygments_lexer": "ipython3",
   "version": "3.10.11"
  }
 },
 "nbformat": 4,
 "nbformat_minor": 2
}
