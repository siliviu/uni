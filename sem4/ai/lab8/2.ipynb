{
 "cells": [
  {
   "cell_type": "code",
   "execution_count": 2,
   "metadata": {},
   "outputs": [
    {
     "name": "stderr",
     "output_type": "stream",
     "text": [
      "C:\\Users\\Liviu\\AppData\\Local\\Packages\\PythonSoftwareFoundation.Python.3.10_qbz5n2kfra8p0\\LocalCache\\local-packages\\Python310\\site-packages\\tqdm\\auto.py:21: TqdmWarning: IProgress not found. Please update jupyter and ipywidgets. See https://ipywidgets.readthedocs.io/en/stable/user_install.html\n",
      "  from .autonotebook import tqdm as notebook_tqdm\n"
     ]
    }
   ],
   "source": [
    "import markovify\n",
    "from datasets import load_dataset\n",
    "\n",
    "\n",
    "corpus = load_dataset(\"biglam/gutenberg-poetry-corpus\")\n",
    "poetry_text = \"\"\n",
    "i = 0\n",
    "for poem in corpus[\"train\"]:\n",
    "    i += 1\n",
    "    if i>100000:\n",
    "        break\n",
    "    poetry_text+=poem[\"line\"]+\"\\n\"\n",
    "text_model = markovify.NewlineText(poetry_text)"
   ]
  },
  {
   "cell_type": "code",
   "execution_count": null,
   "metadata": {},
   "outputs": [],
   "source": [
    "from random import choice\n",
    "from nltk.sentiment import SentimentIntensityAnalyzer\n",
    "from nltk.translate.bleu_score import sentence_bleu\n",
    "from nltk.tokenize import word_tokenize\n",
    "from gensim.models import Word2Vec\n",
    "\n",
    "text_data = poetry_text.split()\n",
    "\n",
    "# Tokenize the text data\n",
    "tokenized_data = [word_tokenize(sentence.lower()) for sentence in text_data]\n",
    "\n",
    "# Train Word2Vec model\n",
    "model = Word2Vec(tokenized_data, vector_size=100, window=5, min_count=1, workers=4)\n",
    "model.save(\"model.md\")"
   ]
  },
  {
   "cell_type": "code",
   "execution_count": 6,
   "metadata": {},
   "outputs": [
    {
     "name": "stdout",
     "output_type": "stream",
     "text": [
      "Poem:\n",
      "To me is lost, wo and for sche sih no peril sihe,\n",
      "Bot if it like you to come within your heart of me.\n",
      "Or deluges, descending on the fairest and the worthieste,\n",
      "Fit haunt of birds;\n",
      "But you, a servile train.\n",
      "His herbe, which is dai, ne which arere.\n",
      "For ate laste set above;\n",
      "Destroy'd his friends in battle taken from the water-door!\n",
      "\n",
      "Sentiments:\n",
      "{'neg': 0.145, 'neu': 0.75, 'pos': 0.104, 'compound': -0.2481}\n",
      "\n",
      "Poem with synonyms replaced:\n",
      "To me is lost, wo but such sche sih no peril sihe,\n",
      "Bot if it like you to come within the heart great me.\n",
      "Or deluges, descending on my remove and the wigwam,\n",
      "Fit haunt of birds;\n",
      "But you, a servile train.\n",
      "His herbe, which is dai, ne which carew.\n",
      "For ate laste set above;\n",
      "Destroy'd his friends in battle taken from the water-door!\n",
      "\n",
      "0.7396397361277308\n"
     ]
    }
   ],
   "source": [
    "from random import choice\n",
    "from nltk.sentiment import SentimentIntensityAnalyzer\n",
    "from nltk.translate.bleu_score import sentence_bleu\n",
    "from nltk.tokenize import word_tokenize\n",
    "from gensim.models import Word2Vec\n",
    "\n",
    "print(\"Poem:\")\n",
    "poem = \"\"\n",
    "for i in range(8):\n",
    "    poem += text_model.make_sentence() + '\\n'\n",
    "print(poem)\n",
    "\n",
    "print(\"Sentiments:\")\n",
    "print(SentimentIntensityAnalyzer().polarity_scores(poem))\n",
    "\n",
    "print(\"\\nPoem with synonyms replaced:\")\n",
    "poem2=poem\n",
    "model=Word2Vec.load('model.md')\n",
    "\n",
    "words = [x.lower() for x in poem.replace('\\n', ' ').replace(',',' ').replace('.','').split(' ') if x != '']\n",
    "for i in range(8):\n",
    "    word = choice(words)\n",
    "    synonym = model.wv.most_similar(word)[0][0]\n",
    "    poem2=poem2.replace(word,synonym, 1)\n",
    "\n",
    "print(poem2)\n",
    "print(sentence_bleu([poem.split()],poem2.split()))"
   ]
  }
 ],
 "metadata": {
  "kernelspec": {
   "display_name": "Python 3",
   "language": "python",
   "name": "python3"
  },
  "language_info": {
   "codemirror_mode": {
    "name": "ipython",
    "version": 3
   },
   "file_extension": ".py",
   "mimetype": "text/x-python",
   "name": "python",
   "nbconvert_exporter": "python",
   "pygments_lexer": "ipython3",
   "version": "3.10.11"
  }
 },
 "nbformat": 4,
 "nbformat_minor": 2
}
